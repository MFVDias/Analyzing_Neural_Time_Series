{
 "cells": [
  {
   "cell_type": "markdown",
   "source": [
    "# 10. Dot product and convolution"
   ],
   "metadata": {
    "collapsed": false,
    "pycharm": {
     "name": "#%% md\n"
    }
   }
  },
  {
   "cell_type": "code",
   "execution_count": 1,
   "metadata": {
    "collapsed": true
   },
   "outputs": [],
   "source": [
    "import numpy as np\n",
    "from matplotlib import pyplot as plt"
   ]
  },
  {
   "cell_type": "markdown",
   "source": [
    "Here are a few ways to compute dot products using numpy."
   ],
   "metadata": {
    "collapsed": false,
    "pycharm": {
     "name": "#%% md\n"
    }
   }
  },
  {
   "cell_type": "code",
   "execution_count": 4,
   "metadata": {
    "collapsed": false
   },
   "outputs": [
    {
     "name": "stdout",
     "output_type": "stream",
     "text": [
      "3.5226863969631466\n",
      "3.5226863969631466\n",
      "3.522686396963146\n",
      "3.522686396963146\n"
     ]
    }
   ],
   "source": [
    "#2 vectors of random numbers\n",
    "a = np.random.randn(10)\n",
    "b = np.random.randn(10)\n",
    "\n",
    "#initialize temporary matrix\n",
    "pointwise_result = np.zeros(len(a))\n",
    "\n",
    "for ii in range(len(a)):\n",
    "    pointwise_result[ii] = a[ii] * b[ii]\n",
    "    \n",
    "print(np.sum(pointwise_result))\n",
    "\n",
    "# alternatively\n",
    "print(np.sum(a*b))\n",
    "\n",
    "# better yet\n",
    "print(np.dot(a,b))\n",
    "\n",
    "# @ symbol means inner product\n",
    "print(a@b)"
   ]
  },
  {
   "cell_type": "markdown",
   "metadata": {},
   "source": [
    "### Figure 10.2"
   ]
  },
  {
   "cell_type": "code",
   "execution_count": 8,
   "metadata": {
    "collapsed": false
   },
   "outputs": [
    {
     "data": {
      "text/plain": "[Text(0.5, 1.0, 'C')]"
     },
     "execution_count": 8,
     "metadata": {},
     "output_type": "execute_result"
    },
    {
     "data": {
      "text/plain": "<Figure size 432x288 with 3 Axes>",
      "image/png": "[encoded data removed]"
     },
     "metadata": {
      "needs_background": "light"
     },
     "output_type": "display_data"
    }
   ],
   "source": [
    "#impulse function; all zeros with one 1 in the middle\n",
    "impfun = np.zeros(100)\n",
    "impfun[49] = 1\n",
    "\n",
    "#figure in book uses the following boxcar function\n",
    "impfun[44:54] = 1\n",
    "\n",
    "kernel = np.array([1,0.8,.6,.4,.2])\n",
    "\n",
    "#convolution result using built-in numpy function\n",
    "numpy_conv_result = np.convolve(impfun, kernel, mode=\"same\")\n",
    "\n",
    "fig, ax = plt.subplots(3, 1, sharex='all', sharey='all')\n",
    "\n",
    "#plot signal\n",
    "ax[0].plot(impfun)\n",
    "ax[0].set(title='A')\n",
    "\n",
    "#plot kernel\n",
    "ax[1].plot(kernel,'.-')\n",
    "ax[1].set(title='B')\n",
    "\n",
    "#plot result of convolution\n",
    "ax[2].plot(numpy_conv_result)\n",
    "ax[2].set(title='C')"
   ]
  },
  {
   "cell_type": "markdown",
   "metadata": {},
   "source": [
    "### Figure 10.4\n",
    "Compute convolution in different ways and plot"
   ]
  },
  {
   "cell_type": "code",
   "execution_count": 15,
   "metadata": {
    "collapsed": false
   },
   "outputs": [
    {
     "data": {
      "text/plain": "<matplotlib.legend.Legend at 0x7fe689546d30>"
     },
     "execution_count": 15,
     "metadata": {},
     "output_type": "execute_result"
    },
    {
     "data": {
      "text/plain": "<Figure size 432x288 with 1 Axes>",
      "image/png": "[encoded data removed]"
     },
     "metadata": {
      "needs_background": "light"
     },
     "output_type": "display_data"
    }
   ],
   "source": [
    "#zero-pad our signal\n",
    "zz = np.zeros(len(kernel)-1)\n",
    "dat4conv = np.concatenate([zz, impfun, zz])\n",
    "\n",
    "half_of_kernel_size = int(np.ceil((len(kernel) -1)/2))\n",
    "\n",
    "#initialize convolution output\n",
    "convolution_result = np.zeros(len(impfun)+len(kernel)-1)\n",
    "\n",
    "#run convolution (kernel is flipped backwards)\n",
    "for ti in range(len(convolution_result)-half_of_kernel_size):\n",
    "    convolution_result[ti] = np.sum(dat4conv[ti:ti+len(kernel)]*kernel[::-1])\n",
    "\n",
    "# cut off edges\n",
    "convolution_result = convolution_result[half_of_kernel_size:-half_of_kernel_size]\n",
    "\n",
    "plt.figure()\n",
    "plt.plot(impfun)\n",
    "plt.plot(convolution_result, 'g')\n",
    "plt.plot(convolution_result/np.sum(kernel), 'r')\n",
    "plt.plot(numpy_conv_result/np.sum(kernel), 'ko')\n",
    "plt.axis([0,100,-.1,3.1])\n",
    "plt.legend([\"raw\",\"unscaled convolution\",\"manual wavelet convolution\",\"numpy convolution\"],\n",
    "           loc='upper left')"
   ]
  }
 ],
 "metadata": {
  "kernelspec": {
   "name": "python3",
   "language": "python",
   "display_name": "Python 3"
  },
  "language_info": {
   "codemirror_mode": {
    "name": "ipython",
    "version": 2
   },
   "file_extension": ".py",
   "mimetype": "text/x-python",
   "name": "python",
   "nbconvert_exporter": "python",
   "pygments_lexer": "ipython2",
   "version": "2.7.8"
  }
 },
 "nbformat": 4,
 "nbformat_minor": 0
}